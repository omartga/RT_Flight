{
 "cells": [
  {
   "cell_type": "markdown",
   "metadata": {},
   "source": [
    "# REAL TIME - VOLS - KAFKA"
   ]
  },
  {
   "cell_type": "code",
   "execution_count": 11,
   "metadata": {},
   "outputs": [],
   "source": [
    "from kafka import KafkaProducer\n",
    "from time import sleep\n",
    "from opensky_api import OpenSkyApi\n",
    "import json"
   ]
  },
  {
   "cell_type": "code",
   "execution_count": 9,
   "metadata": {},
   "outputs": [],
   "source": [
    "producer = KafkaProducer(bootstrap_servers='localhost:9092')"
   ]
  },
  {
   "cell_type": "code",
   "execution_count": null,
   "metadata": {},
   "outputs": [],
   "source": [
    "#Aconsellable tenir un usuari creat a OpenSky\n",
    "api = OpenSkyApi('user', 'password') \n",
    "\n",
    "#Boundary box del territori de Catalunya (minLat, maxLat, minLon, maxLon)\n",
    "bbox_cat = (40.392581, 42.948381, 0.000000, 3.449707)\n",
    "\n",
    "states = api.get_states(bbox = bbox_cat)\n",
    "\n",
    "#Aturar amb botó 'stop' l'execució\n",
    "while True:\n",
    "    if states is not None:\n",
    "        for vol in states.states:\n",
    "            v = {\n",
    "                'callsign':vol.callsign,\n",
    "                'country': vol.origin_country,\n",
    "                'longitude': vol.longitude,\n",
    "                'latitude': vol.latitude,\n",
    "                'velocity': vol.velocity,\n",
    "                'vertical_rate': vol.vertical_rate\n",
    "            }\n",
    "            \n",
    "            vol_value = json.dumps(v, indent = 2).encode('utf-8')\n",
    "            producer.send('topic_created', value = vol_value)\n",
    "            print(\"(%r, %r,%r, %r, %r, %r)\" % (vol.callsign, vol.origin_country,\n",
    "                                               vol.longitude, vol.latitude, \n",
    "                                               vol.velocity, vol.vertical_rate))\n",
    "    producer.flush()\n",
    "    sleep(10)"
   ]
  }
 ],
 "metadata": {
  "kernelspec": {
   "display_name": "Python 3 (ipykernel)",
   "language": "python",
   "name": "python3"
  },
  "language_info": {
   "codemirror_mode": {
    "name": "ipython",
    "version": 3
   },
   "file_extension": ".py",
   "mimetype": "text/x-python",
   "name": "python",
   "nbconvert_exporter": "python",
   "pygments_lexer": "ipython3",
   "version": "3.7.0"
  }
 },
 "nbformat": 4,
 "nbformat_minor": 2
}
